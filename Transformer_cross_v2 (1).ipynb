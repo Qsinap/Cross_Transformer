{
  "nbformat": 4,
  "nbformat_minor": 0,
  "metadata": {
    "colab": {
      "name": "Transformer_cross_v2.ipynb",
      "provenance": [],
      "collapsed_sections": [],
      "machine_shape": "hm"
    },
    "kernelspec": {
      "name": "python3",
      "display_name": "Python 3"
    },
    "language_info": {
      "name": "python"
    },
    "accelerator": "GPU"
  },
  "cells": [
    {
      "cell_type": "markdown",
      "metadata": {
        "id": "jDZXzLs4asD_"
      },
      "source": [
        "### Setup"
      ]
    },
    {
      "cell_type": "code",
      "metadata": {
        "id": "WesiKpW_aq9k"
      },
      "source": [
        "from google.colab import drive\n",
        "drive.mount('/content/drive')"
      ],
      "execution_count": 1,
      "outputs": []
    },
    {
      "cell_type": "code",
      "metadata": {
        "id": "SiVgZZMzRycj"
      },
      "source": [
        "import tensorflow as tf\n",
        "from tensorflow import keras\n",
        "from tensorflow.keras import layers"
      ],
      "execution_count": 2,
      "outputs": []
    },
    {
      "cell_type": "markdown",
      "metadata": {
        "id": "VLtd3wWiazZu"
      },
      "source": [
        "### Implement a cross transformer block as a layer"
      ]
    },
    {
      "cell_type": "code",
      "metadata": {
        "id": "J2dae-xYc1tq"
      },
      "source": [
        "import collections\n",
        "import math\n",
        "import string\n",
        "\n",
        "import numpy as np\n",
        "\n",
        "from tensorflow.python.framework import tensor_shape\n",
        "from tensorflow.python.keras import constraints\n",
        "from tensorflow.python.keras import initializers\n",
        "from tensorflow.python.keras import regularizers\n",
        "from tensorflow.python.keras.engine.base_layer import Layer\n",
        "from tensorflow.python.keras.layers import advanced_activations\n",
        "from tensorflow.python.keras.layers import core\n",
        "from tensorflow.python.keras.layers import einsum_dense\n",
        "from tensorflow.python.keras.utils import tf_utils\n",
        "from tensorflow.python.ops import array_ops\n",
        "from tensorflow.python.ops import math_ops\n",
        "from tensorflow.python.ops import special_math_ops\n",
        "from tensorflow.python.platform import tf_logging as logging\n",
        "from tensorflow.python.util.tf_export import keras_export\n",
        "\n",
        "\n",
        "_CHR_IDX = string.ascii_lowercase\n",
        "\n",
        "\n",
        "def _build_attention_equation(rank, attn_axes):\n",
        "  target_notation = _CHR_IDX[:rank]\n",
        "  batch_dims = tuple(np.delete(range(rank), attn_axes + (rank - 1,)))\n",
        "  letter_offset = rank\n",
        "  source_notation = \"\"\n",
        "  for i in range(rank):\n",
        "    if i in batch_dims or i == rank - 1:\n",
        "      source_notation += target_notation[i]\n",
        "    else:\n",
        "      source_notation += _CHR_IDX[letter_offset]\n",
        "      letter_offset += 1\n",
        "\n",
        "  product_notation = \"\".join([target_notation[i] for i in batch_dims] +\n",
        "                             [target_notation[i] for i in attn_axes] +\n",
        "                             [source_notation[i] for i in attn_axes])\n",
        "  dot_product_equation = \"%s,%s->%s\" % (source_notation, target_notation,\n",
        "                                        product_notation)\n",
        "  attn_scores_rank = len(product_notation)\n",
        "  combine_equation = \"%s,%s->%s\" % (product_notation, source_notation,\n",
        "                                    target_notation)\n",
        "  return dot_product_equation, combine_equation, attn_scores_rank\n",
        "\n",
        "\n",
        "def _build_proj_equation(free_dims, bound_dims, output_dims):\n",
        "  input_str = \"\"\n",
        "  kernel_str = \"\"\n",
        "  output_str = \"\"\n",
        "  bias_axes = \"\"\n",
        "  letter_offset = 0\n",
        "  for i in range(free_dims):\n",
        "    char = _CHR_IDX[i + letter_offset]\n",
        "    input_str += char\n",
        "    output_str += char\n",
        "\n",
        "  letter_offset += free_dims\n",
        "  for i in range(bound_dims):\n",
        "    char = _CHR_IDX[i + letter_offset]\n",
        "    input_str += char\n",
        "    kernel_str += char\n",
        "\n",
        "  letter_offset += bound_dims\n",
        "  for i in range(output_dims):\n",
        "    char = _CHR_IDX[i + letter_offset]\n",
        "    kernel_str += char\n",
        "    output_str += char\n",
        "    bias_axes += char\n",
        "  equation = \"%s,%s->%s\" % (input_str, kernel_str, output_str)\n",
        "\n",
        "  return equation, bias_axes, len(output_str)\n",
        "\n",
        "\n",
        "def _get_output_shape(output_rank, known_last_dims):\n",
        "  return [None] * (output_rank - len(known_last_dims)) + list(known_last_dims)\n",
        "\n",
        "\n",
        "@keras_export(\"keras.layers.MultiHeadAttention\")\n",
        "class MultiHeadAttention2(Layer):\n",
        "  \"\"\"MultiHeadAttention layer.\n",
        "  Nulti-head attention mechanism with the attention mechanism focused\n",
        "  on the query, keys and values. The attention mechanism is crossed to \n",
        "  avoid loss of information in dimension reduction by scalar product.\"\"\"\n",
        "\n",
        "  def __init__(self,\n",
        "               num_heads,\n",
        "               key_dim,\n",
        "               value_dim=None,\n",
        "               dropout=0.0,\n",
        "               use_bias=True,\n",
        "               output_shape=None,\n",
        "               attention_axes=None,\n",
        "               kernel_initializer=\"glorot_uniform\",\n",
        "               bias_initializer=\"zeros\",\n",
        "               kernel_regularizer=None,\n",
        "               bias_regularizer=None,\n",
        "               activity_regularizer=None,\n",
        "               kernel_constraint=None,\n",
        "               bias_constraint=None,\n",
        "               **kwargs):\n",
        "    super(MultiHeadAttention2, self).__init__(**kwargs)\n",
        "    self._num_heads = num_heads\n",
        "    self._key_dim = key_dim\n",
        "    self._value_dim = value_dim if value_dim else key_dim\n",
        "    self._dropout = dropout\n",
        "    self._use_bias = use_bias\n",
        "    self._output_shape = output_shape\n",
        "    self._kernel_initializer = initializers.get(kernel_initializer)\n",
        "    self._bias_initializer = initializers.get(bias_initializer)\n",
        "    self._kernel_regularizer = regularizers.get(kernel_regularizer)\n",
        "    self._bias_regularizer = regularizers.get(bias_regularizer)\n",
        "    self._kernel_constraint = constraints.get(kernel_constraint)\n",
        "    self._bias_constraint = constraints.get(bias_constraint)\n",
        "    if attention_axes is not None and not isinstance(attention_axes,\n",
        "                                                     collections.abc.Sized):\n",
        "      self._attention_axes = (attention_axes,)\n",
        "    else:\n",
        "      self._attention_axes = attention_axes\n",
        "    self._built_from_signature = False\n",
        "    self._query_shape, self._key_shape, self._value_shape = None, None, None\n",
        "\n",
        "  def get_config(self):\n",
        "    config = {\n",
        "        \"num_heads\":\n",
        "            self._num_heads,\n",
        "        \"key_dim\":\n",
        "            self._key_dim,\n",
        "        \"value_dim\":\n",
        "            self._value_dim,\n",
        "        \"dropout\":\n",
        "            self._dropout,\n",
        "        \"use_bias\":\n",
        "            self._use_bias,\n",
        "        \"output_shape\":\n",
        "            self._output_shape,\n",
        "        \"attention_axes\":\n",
        "            self._attention_axes,\n",
        "        \"kernel_initializer\":\n",
        "            initializers.serialize(self._kernel_initializer),\n",
        "        \"bias_initializer\":\n",
        "            initializers.serialize(self._bias_initializer),\n",
        "        \"kernel_regularizer\":\n",
        "            regularizers.serialize(self._kernel_regularizer),\n",
        "        \"bias_regularizer\":\n",
        "            regularizers.serialize(self._bias_regularizer),\n",
        "        \"activity_regularizer\":\n",
        "            regularizers.serialize(self._activity_regularizer),\n",
        "        \"kernel_constraint\":\n",
        "            constraints.serialize(self._kernel_constraint),\n",
        "        \"bias_constraint\":\n",
        "            constraints.serialize(self._bias_constraint),\n",
        "        \"query_shape\": self._query_shape,\n",
        "        \"key_shape\": self._key_shape,\n",
        "        \"value_shape\": self._value_shape,\n",
        "    }\n",
        "    base_config = super(MultiHeadAttention, self).get_config()\n",
        "    return dict(list(base_config.items()) + list(config.items()))\n",
        "\n",
        "  @classmethod\n",
        "  def from_config(cls, config):\n",
        "    query_shape = config.pop(\"query_shape\")\n",
        "    key_shape = config.pop(\"key_shape\")\n",
        "    value_shape = config.pop(\"value_shape\")\n",
        "    layer = cls(**config)\n",
        "    if None in [query_shape, key_shape, value_shape]:\n",
        "      logging.warning(\n",
        "          \"One of the input shape is missing. They should be \"\n",
        "          \"memorized when the layer was serialized. \"\n",
        "          \"%s is created without weights.\",\n",
        "          str(cls))\n",
        "    else:\n",
        "      layer._build_from_signature(query_shape, value_shape, key_shape)  # pylint: disable=protected-access\n",
        "    return layer\n",
        "\n",
        "  def _build_from_signature(self, query, value, key=None):\n",
        "    self._built_from_signature = True\n",
        "    if hasattr(query, \"shape\"):\n",
        "      self._query_shape = tensor_shape.TensorShape(query.shape)\n",
        "    else:\n",
        "      self._query_shape = tensor_shape.TensorShape(query)\n",
        "    if hasattr(value, \"shape\"):\n",
        "      self._value_shape = tensor_shape.TensorShape(value.shape)\n",
        "    else:\n",
        "      self._value_shape = tensor_shape.TensorShape(value)\n",
        "    if key is None:\n",
        "      self._key_shape = self._value_shape\n",
        "    elif hasattr(key, \"shape\"):\n",
        "      self._key_shape = tensor_shape.TensorShape(key.shape)\n",
        "    else:\n",
        "      self._key_shape = tensor_shape.TensorShape(key)\n",
        "\n",
        "    common_kwargs = dict(\n",
        "        kernel_initializer=self._kernel_initializer,\n",
        "        bias_initializer=self._bias_initializer,\n",
        "        kernel_regularizer=self._kernel_regularizer,\n",
        "        bias_regularizer=self._bias_regularizer,\n",
        "        activity_regularizer=self._activity_regularizer,\n",
        "        kernel_constraint=self._kernel_constraint,\n",
        "        bias_constraint=self._bias_constraint)\n",
        "\n",
        "    with tf_utils.maybe_init_scope(self):\n",
        "      free_dims = self._query_shape.rank - 1\n",
        "      einsum_equation, bias_axes, output_rank = _build_proj_equation(\n",
        "          free_dims, bound_dims=1, output_dims=2)\n",
        "      self._query_dense = einsum_dense.EinsumDense(\n",
        "          einsum_equation,\n",
        "          output_shape=_get_output_shape(output_rank - 1,\n",
        "                                         [self._num_heads, self._key_dim]),\n",
        "          bias_axes=bias_axes if self._use_bias else None,\n",
        "          name=\"query\",\n",
        "          **common_kwargs)\n",
        "      einsum_equation, bias_axes, output_rank = _build_proj_equation(\n",
        "          self._key_shape.rank - 1, bound_dims=1, output_dims=2)\n",
        "      self._key_dense = einsum_dense.EinsumDense(\n",
        "          einsum_equation,\n",
        "          output_shape=_get_output_shape(output_rank - 1,\n",
        "                                         [self._num_heads, self._key_dim]),\n",
        "          bias_axes=bias_axes if self._use_bias else None,\n",
        "          name=\"key\",\n",
        "          **common_kwargs)\n",
        "      einsum_equation, bias_axes, output_rank = _build_proj_equation(\n",
        "          self._value_shape.rank - 1, bound_dims=1, output_dims=2)\n",
        "      self._value_dense = einsum_dense.EinsumDense(\n",
        "          einsum_equation,\n",
        "          output_shape=_get_output_shape(output_rank - 1,\n",
        "                                         [self._num_heads, self._value_dim]),\n",
        "          bias_axes=bias_axes if self._use_bias else None,\n",
        "          name=\"value\",\n",
        "          **common_kwargs)\n",
        "      self._build_attention(output_rank)\n",
        "      self._output_dense = self._make_output_dense(\n",
        "          free_dims, common_kwargs, \"attention_output\")\n",
        "\n",
        "  def _make_output_dense(self, free_dims, common_kwargs, name=None):\n",
        "    if self._output_shape:\n",
        "      if not isinstance(self._output_shape, collections.abc.Sized):\n",
        "        output_shape = [self._output_shape]\n",
        "      else:\n",
        "        output_shape = self._output_shape\n",
        "    else:\n",
        "      output_shape = [self._query_shape[-1]]\n",
        "    einsum_equation, bias_axes, output_rank = _build_proj_equation(\n",
        "        free_dims, bound_dims=2, output_dims=len(output_shape))\n",
        "    return einsum_dense.EinsumDense(\n",
        "        einsum_equation,\n",
        "        output_shape=_get_output_shape(output_rank - 1, output_shape),\n",
        "        bias_axes=bias_axes if self._use_bias else None,\n",
        "        name=name,\n",
        "        **common_kwargs)\n",
        "\n",
        "  def _build_attention(self, rank):\n",
        "    if self._attention_axes is None:\n",
        "      self._attention_axes = tuple(range(1, rank - 2))\n",
        "    else:\n",
        "      self._attention_axes = tuple(self._attention_axes)\n",
        "    self._dot_product_equation, self._combine_equation, attn_scores_rank = (\n",
        "        _build_attention_equation(rank, attn_axes=self._attention_axes))\n",
        "    norm_axes = tuple(\n",
        "        range(attn_scores_rank - len(self._attention_axes), attn_scores_rank))\n",
        "    self._softmax = advanced_activations.Softmax(axis=norm_axes)\n",
        "    self._dropout_layer = core.Dropout(rate=self._dropout)\n",
        "\n",
        "  def _masked_softmax(self, attention_scores, attention_mask=None):\n",
        "    if attention_mask is not None:\n",
        "      mask_expansion_axes = [-len(self._attention_axes) * 2 - 1]\n",
        "      for _ in range(len(attention_scores.shape) - len(attention_mask.shape)):\n",
        "        attention_mask = array_ops.expand_dims(\n",
        "            attention_mask, axis=mask_expansion_axes)\n",
        "    return self._softmax(attention_scores, attention_mask)\n",
        "\n",
        "  def _compute_attention(self,\n",
        "                         query,\n",
        "                         key,\n",
        "                         value,\n",
        "                         attention_mask=None,\n",
        "                         training=None):\n",
        "\n",
        "    \"\"\"Modified section.\"\"\"\n",
        "    query = math_ops.multiply(query, 1.0 / math.sqrt(float(self._key_dim)))\n",
        "\n",
        "    key0 = math_ops.multiply(key, 1.0 / math.sqrt(float(self._key_dim)))\n",
        "\n",
        "    value0 = math_ops.multiply(value, 1.0 / math.sqrt(float(self._key_dim)))\n",
        "\n",
        "    attention_scores = special_math_ops.einsum(self._dot_product_equation, key,\n",
        "                                               query)\n",
        "    \n",
        "    attention_scores1 = special_math_ops.einsum(self._dot_product_equation, query,\n",
        "                                               value)\n",
        "    \n",
        "    attention_scores2 = special_math_ops.einsum(self._dot_product_equation, value,\n",
        "                                               key)\n",
        "\n",
        "    attention_scores = self._masked_softmax(attention_scores, attention_mask)\n",
        "    attention_scores1 = self._masked_softmax(attention_scores1, attention_mask)\n",
        "    attention_scores2 = self._masked_softmax(attention_scores2, attention_mask)\n",
        "\n",
        "    attention_scores_dropout = self._dropout_layer(\n",
        "        attention_scores, training=training)\n",
        "    \n",
        "    attention_scores_dropout1 = self._dropout_layer(\n",
        "        attention_scores1, training=training)\n",
        "    \n",
        "    attention_scores_dropout2 = self._dropout_layer(\n",
        "        attention_scores2, training=training)\n",
        "\n",
        "    attention_output = special_math_ops.einsum(self._combine_equation,\n",
        "                                               attention_scores_dropout, value)\n",
        "    attention_output1 = special_math_ops.einsum(self._combine_equation,\n",
        "                                               attention_scores_dropout1, key)\n",
        "    attention_output2 = special_math_ops.einsum(self._combine_equation,\n",
        "                                               attention_scores_dropout2, query)\n",
        "\n",
        "    attention_output=tf.math.scalar_mul(1/3.,tf.add(tf.add(attention_output, attention_output1),attention_output2))\n",
        "    attention_scores=tf.math.scalar_mul(1/3.,tf.add(tf.add(attention_scores, attention_scores1),attention_scores2))\n",
        "  \n",
        "    return attention_output, attention_scores\n",
        "\n",
        "  def call(self,\n",
        "           query,\n",
        "           value,\n",
        "           key=None,\n",
        "           attention_mask=None,\n",
        "           return_attention_scores=False,\n",
        "           training=None):\n",
        "    if not self._built_from_signature:\n",
        "      self._build_from_signature(query=query, value=value, key=key)\n",
        "    if key is None:\n",
        "      key = value\n",
        "\n",
        "    query = self._query_dense(query)\n",
        "    key = self._key_dense(key)\n",
        "    value = self._value_dense(value)\n",
        "\n",
        "    attention_output, attention_scores = self._compute_attention(\n",
        "        query, key, value, attention_mask, training)\n",
        "    attention_output = self._output_dense(attention_output)\n",
        "\n",
        "    if return_attention_scores:\n",
        "      return attention_output, attention_scores\n",
        "    return attention_output"
      ],
      "execution_count": 3,
      "outputs": []
    },
    {
      "cell_type": "code",
      "metadata": {
        "id": "kridMnK3R5tA"
      },
      "source": [
        "class TransformerBlock(layers.Layer):\n",
        "    def __init__(self, embed_dim, num_heads, ff_dim, rate=0.1):\n",
        "        super(TransformerBlock, self).__init__()\n",
        "        \n",
        "        \"\"\"Mcross attention block\"\"\"\n",
        "        self.att = MultiHeadAttention2(num_heads=num_heads, key_dim=embed_dim)\n",
        "        self.ffn = keras.Sequential(\n",
        "            [layers.Dense(ff_dim, activation=\"relu\"), layers.Dense(embed_dim),]\n",
        "        )\n",
        "        self.layernorm1 = layers.LayerNormalization(epsilon=1e-6)\n",
        "        self.layernorm2 = layers.LayerNormalization(epsilon=1e-6)\n",
        "        self.dropout1 = layers.Dropout(rate)\n",
        "        self.dropout2 = layers.Dropout(rate)\n",
        "\n",
        "    def call(self, inputs, training):\n",
        "        attn_output = self.att(inputs, inputs)\n",
        "        attn_output = self.dropout1(attn_output, training=training)\n",
        "        out1 = self.layernorm1(inputs + attn_output)\n",
        "        ffn_output = self.ffn(out1)\n",
        "        ffn_output = self.dropout2(ffn_output, training=training)\n",
        "        return self.layernorm2(out1 + ffn_output)"
      ],
      "execution_count": 4,
      "outputs": []
    },
    {
      "cell_type": "markdown",
      "metadata": {
        "id": "r9NRAha_bF8E"
      },
      "source": [
        "### Tokenization and Position Embedding"
      ]
    },
    {
      "cell_type": "code",
      "metadata": {
        "id": "uScqNAe9R9cG"
      },
      "source": [
        "class TokenAndPositionEmbedding(layers.Layer):\n",
        "    def __init__(self, maxlen, vocab_size, embed_dim):\n",
        "        super(TokenAndPositionEmbedding, self).__init__()\n",
        "        self.token_emb = layers.Embedding(input_dim=vocab_size, output_dim=embed_dim)\n",
        "        self.pos_emb = layers.Embedding(input_dim=maxlen, output_dim=embed_dim)\n",
        "\n",
        "    def call(self, x):\n",
        "        maxlen = tf.shape(x)[-1]\n",
        "        positions = tf.range(start=0, limit=maxlen, delta=1)\n",
        "        positions = self.pos_emb(positions)\n",
        "        x = self.token_emb(x)\n",
        "        return x + positions"
      ],
      "execution_count": 5,
      "outputs": []
    },
    {
      "cell_type": "markdown",
      "metadata": {
        "id": "nfloJmYfbLgT"
      },
      "source": [
        "Dataset"
      ]
    },
    {
      "cell_type": "code",
      "metadata": {
        "colab": {
          "base_uri": "https://localhost:8080/"
        },
        "id": "HGbWpuH4SAE-",
        "outputId": "38314fa3-1967-453e-f7d8-834498f0a6ba"
      },
      "source": [
        "vocab_size = 20000  # Solo considera las 20k palabras principales\n",
        "maxlen = 200        # Solo considera las primeras 200 palabras de cada pelicula revisada\n",
        "(x_train, y_train), (x_val, y_val) = keras.datasets.imdb.load_data(num_words=vocab_size)\n",
        "print(len(x_train), \"Training sequences\")\n",
        "print(len(x_val), \"Validation sequences\")\n",
        "x_train = keras.preprocessing.sequence.pad_sequences(x_train, maxlen=maxlen)\n",
        "x_val = keras.preprocessing.sequence.pad_sequences(x_val, maxlen=maxlen)"
      ],
      "execution_count": 6,
      "outputs": [
        {
          "output_type": "stream",
          "text": [
            "Downloading data from https://storage.googleapis.com/tensorflow/tf-keras-datasets/imdb.npz\n",
            "17465344/17464789 [==============================] - 0s 0us/step\n"
          ],
          "name": "stdout"
        },
        {
          "output_type": "stream",
          "text": [
            "<string>:6: VisibleDeprecationWarning: Creating an ndarray from ragged nested sequences (which is a list-or-tuple of lists-or-tuples-or ndarrays with different lengths or shapes) is deprecated. If you meant to do this, you must specify 'dtype=object' when creating the ndarray\n",
            "/usr/local/lib/python3.7/dist-packages/tensorflow/python/keras/datasets/imdb.py:155: VisibleDeprecationWarning: Creating an ndarray from ragged nested sequences (which is a list-or-tuple of lists-or-tuples-or ndarrays with different lengths or shapes) is deprecated. If you meant to do this, you must specify 'dtype=object' when creating the ndarray\n",
            "  x_train, y_train = np.array(xs[:idx]), np.array(labels[:idx])\n",
            "/usr/local/lib/python3.7/dist-packages/tensorflow/python/keras/datasets/imdb.py:156: VisibleDeprecationWarning: Creating an ndarray from ragged nested sequences (which is a list-or-tuple of lists-or-tuples-or ndarrays with different lengths or shapes) is deprecated. If you meant to do this, you must specify 'dtype=object' when creating the ndarray\n",
            "  x_test, y_test = np.array(xs[idx:]), np.array(labels[idx:])\n"
          ],
          "name": "stderr"
        },
        {
          "output_type": "stream",
          "text": [
            "25000 Training sequences\n",
            "25000 Validation sequences\n"
          ],
          "name": "stdout"
        }
      ]
    },
    {
      "cell_type": "markdown",
      "metadata": {
        "id": "__I5KOpbbSHH"
      },
      "source": [
        "### Build classifier model"
      ]
    },
    {
      "cell_type": "code",
      "metadata": {
        "id": "ivwF2mc2SDUQ"
      },
      "source": [
        "def get_model():\n",
        "  embed_dim = 32  # Embedding size for each token\n",
        "  num_heads = 2  # Number of attention heads\n",
        "  ff_dim = 32  # Hidden layer size in feed forward network inside transformer\n",
        "\n",
        "  inputs = layers.Input(shape=(maxlen,))\n",
        "  embedding_layer = TokenAndPositionEmbedding(maxlen, vocab_size, embed_dim)\n",
        "  x = embedding_layer(inputs)\n",
        "  transformer_block = TransformerBlock(embed_dim, num_heads, ff_dim)\n",
        "  x = transformer_block(x)\n",
        "  x = layers.GlobalAveragePooling1D()(x)\n",
        "  x = layers.Dropout(0.1)(x)\n",
        "  x = layers.Dense(20, activation=\"relu\")(x)\n",
        "  x = layers.Dropout(0.1)(x)\n",
        "  outputs = layers.Dense(2, activation=\"softmax\")(x)\n",
        "\n",
        "  model = keras.Model(inputs=inputs, outputs=outputs)\n",
        "  model.compile(\"adam\", \"sparse_categorical_crossentropy\", metrics=[\"accuracy\"])\n",
        "  return model"
      ],
      "execution_count": 7,
      "outputs": []
    },
    {
      "cell_type": "markdown",
      "metadata": {
        "id": "wF0DA3zbbWJ5"
      },
      "source": [
        "### Training and validation"
      ]
    },
    {
      "cell_type": "code",
      "metadata": {
        "id": "AKg9uAD7bbLO"
      },
      "source": [
        "import time\n",
        "import scipy.io as sio\n",
        "from IPython.display import clear_output"
      ],
      "execution_count": 8,
      "outputs": []
    },
    {
      "cell_type": "code",
      "metadata": {
        "id": "cOSySw-IbcPi"
      },
      "source": [
        "path='/content/drive/MyDrive/INDIGO_MLR/Transformers/Cross/'"
      ],
      "execution_count": 9,
      "outputs": []
    },
    {
      "cell_type": "code",
      "metadata": {
        "colab": {
          "base_uri": "https://localhost:8080/"
        },
        "id": "UaNXdyymSE-3",
        "outputId": "2a1326df-cea0-40b8-fa42-28fe76c63665"
      },
      "source": [
        "for i in range(40):\n",
        "  try:\n",
        "    del transformer, results, mat\n",
        "  except:\n",
        "    print('new model')\n",
        "\n",
        "  transformer=get_model()\n",
        "\n",
        "  tic = time.time()\n",
        "  results = transformer.fit(x_train, y_train, batch_size=32, epochs=60, validation_data=(x_val, y_val))\n",
        "  toc= time.time()-tic\n",
        "  mat=results.history\n",
        "  mat['time']=toc\n",
        "\n",
        "  sio.savemat(path+str(i)+'.mat', mat)  \n",
        "  clear_output(wait=True)"
      ],
      "execution_count": 12,
      "outputs": [
        {
          "output_type": "stream",
          "text": [
            "Epoch 1/2\n",
            "782/782 [==============================] - 13s 16ms/step - loss: 0.3958 - accuracy: 0.8111 - val_loss: 0.3026 - val_accuracy: 0.8655\n",
            "Epoch 2/2\n",
            "782/782 [==============================] - 12s 15ms/step - loss: 0.2046 - accuracy: 0.9190 - val_loss: 0.3228 - val_accuracy: 0.8705\n"
          ],
          "name": "stdout"
        }
      ]
    }
  ]
}